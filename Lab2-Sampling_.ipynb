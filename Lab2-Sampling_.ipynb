{
 "cells": [
  {
   "cell_type": "code",
   "execution_count": 1,
   "id": "41558525-0304-46ea-8b27-ca3267fbabb9",
   "metadata": {},
   "outputs": [],
   "source": [
    "import numpy as np\n",
    "import pandas as pd\n",
    "import altair as alt"
   ]
  },
  {
   "cell_type": "markdown",
   "id": "94da408a-8e88-42f3-a21a-4c2b431fa49c",
   "metadata": {},
   "source": [
    "# Lab 2: Sampling design and statistical bias\n",
    "\n",
    "In the following scenarios you'll explore through simulation how nonrandom sampling can produce datasets with statistical properties that are distored relative to the population that the sample was drawn from. This kind of distortion is known as **bias**. \n",
    "\n",
    "In common usage, the word 'bias' means disproportion or unfairness. In statistics, the concept has the same connotation -- biased sampling favors certain observational units over others, and biased estimates are estimates that favor larger or smaller values than the truth.\n",
    "\n",
    "This lab has you explore sampling bias. The goal is to refine your understanding about what (statistical) bias is and is not, and develop your intuition about potential mechanisms by which bias is introduced and the effect that this can have on sample statistics. \n",
    "\n",
    "### Objectives\n",
    "\n",
    "* Simulate biased and unbiased sampling designs\n",
    "* Examine the impact of sampling bias on the sample mean\n",
    "* Apply a simple bias correction by inverse probability weighting\n",
    "\n",
    "---\n",
    "\n",
    "## Background\n",
    "\n",
    "#### Sampling design\n",
    "\n",
    "The **sampling design** of a study refers to _**the way observational units are selected**_ from the sampling frame (the collection of all observable units). Any design can be expressed by the probability that each unit is included in the sample. In a random sample, all units are equally likely to be included.\n",
    "\n",
    "For example, you might want to learn about U.S. residents (population), but only be able for ethical reasons to study adults (sampling frame), and decide to do a mail survey of 2000 randomly selected addresses in each state (sampling design). (This is not a random sample of all individuals because individuals share addresses and the population sizes are different from state to state.)\n",
    "\n",
    "#### Bias\n",
    "\n",
    "Formally, **bias** describes _**the 'typical' deviation of a sample statistic (observed) from its population counterpart (unobserved)**_. \n",
    "\n",
    "For example, if a particular sampling design tends to produce an average measurement around 1.5 units, but the true average in the population is 2 units, then the estimate has a bias of -0.5 units. The language 'typical' and 'tends to' is important here. Estimates are rarely (almost never) perfect, so just because an estimate is off by -0.5 units for one sample doesn't make it biased -- it is only biased if it is *consistently* off under repeated sampling. \n",
    "\n",
    "Although bias is technically a property of a sample statistic (like the sample average), it's common to talk about a biased *sample* -- this term refers to a dataset collected using a sampling design that produces biased statistics. \n",
    "\n",
    "This is exactly what you'll explore in this lab -- the relationship between sampling design and bias.\n",
    "\n",
    "#### Simulated data\n",
    "\n",
    "You will be simulating data in this lab. **Simulation** is a great means of exploration for the present topic _**because you can control the population properties**_. \n",
    "\n",
    "When working with real data, you just have one dataset, and you don't know any of the properties of the population or what might have happened if a different sample were collected. That makes it difficult to understand sampling variation and impossible to directly compare the sample properties to the population properties! \n",
    "\n",
    "With simulated data, by contrast, you control how data are generated with exact precision -- so by extension, you know everything there is to know about the population. In addition, repeated simulation of data makes it possible to explore the typical behavior of a particular sampling design, so you can learn 'what usually happens' for a particular sampling design by direct observation.\n",
    "\n",
    "---"
   ]
  },
  {
   "cell_type": "markdown",
   "id": "e059f380-d6bd-46e0-bb8b-f9bdce6ee792",
   "metadata": {},
   "source": [
    "## Scenario 1: unbiased samples\n",
    "\n",
    "In this scenario you'll compare the sample mean and the distribution of sample values for a single viariable with the population mean and distribution for an unbiased sampling design.\n",
    "\n",
    "### Hypothetical population\n",
    "\n",
    "To provide a little context to this scenario, imagine that you're measuring eucalyptus seeds to determine their typical diameter. The cell below simulates diameter measurements for a hypothetical population of 5000 seeds; imagine that this is the total number of seeds in a small grove at some point in time."
   ]
  },
  {
   "cell_type": "code",
   "execution_count": null,
   "id": "8ad69c60-7bc8-483b-8bdd-461f7e22cdc8",
   "metadata": {},
   "outputs": [],
   "source": [
    "# simulate seed diameters\n",
    "np.random.seed(40221) # for reproducibility\n",
    "population = pd.DataFrame(\n",
    "    data = {'diameter': np.random.gamma(shape = 2, scale = 1/2, size = 5000), \n",
    "            'seed': np.arange(5000)}\n",
    ").set_index('seed')\n",
    "\n",
    "# check first few rows\n",
    "population.head(3)"
   ]
  },
  {
   "cell_type": "markdown",
   "id": "5cb402b8-9c94-47fa-8ffe-cc3b1310da4b",
   "metadata": {},
   "source": [
    "#### Question 1a\n",
    "\n",
    "Calculate the mean diameter for the hypothetical population and set it to `mean_diameter`.\n"
   ]
  },
  {
   "cell_type": "code",
   "execution_count": null,
   "id": "7224cd45-a3a8-43bf-80d1-1892996fd8bc",
   "metadata": {},
   "outputs": [],
   "source": [
    "# solution\n",
    "mean_pop_diameter = ...\n",
    "\n",
    "mean_pop_diameter"
   ]
  },
  {
   "cell_type": "markdown",
   "id": "6d653732-8284-409a-89a3-69837638c1f5",
   "metadata": {},
   "source": [
    "#### Question 1b\n",
    "\n",
    "Calculate the standard deviation of diameters for the hypothetical population and set the result to `std_dev_pop_diameter`."
   ]
  },
  {
   "cell_type": "code",
   "execution_count": null,
   "id": "dc7f8e47-a095-485d-9c37-5055ea91a068",
   "metadata": {},
   "outputs": [],
   "source": [
    "# solution\n",
    "std_dev_pop_diameter = ...\n",
    "\n",
    "std_dev_pop_diameter"
   ]
  },
  {
   "cell_type": "markdown",
   "id": "b73c989d-4c9d-49ef-a46f-eca758508796",
   "metadata": {},
   "source": [
    "The cell below produces a histogram of the population values -- the distribution of diameter measurements among the hypothetical population -- with a vertical line indicating the population mean."
   ]
  },
  {
   "cell_type": "code",
   "execution_count": null,
   "id": "d93fc486-d5a7-40ac-9a33-8f16316e3f46",
   "metadata": {},
   "outputs": [],
   "source": [
    "# base layer\n",
    "base_pop = alt.Chart(population).properties(width = 400, height = 300)\n",
    "\n",
    "# histogram of diameter measurements\n",
    "hist_pop = base_pop.mark_bar(opacity = 0.8).encode(\n",
    "    x = alt.X('diameter', \n",
    "              bin = alt.Bin(maxbins = 20), \n",
    "              title = 'Diameter (mm)', \n",
    "              scale = alt.Scale(domain = (0, 6))),\n",
    "    y = alt.Y('count()', title = 'Number of seeds in population')\n",
    ")\n",
    "\n",
    "# vertical line for population mean\n",
    "mean_pop = base_pop.mark_rule(color='blue').encode(\n",
    "    x = 'mean(diameter)'\n",
    ")\n",
    "\n",
    "# display\n",
    "hist_pop + mean_pop"
   ]
  },
  {
   "cell_type": "markdown",
   "id": "98a28832-dc25-49c2-a4a6-6624db971459",
   "metadata": {},
   "source": [
    "### Hypothetical sampling design\n",
    "\n",
    "Imagine that your sampling design involves collecting bunches of plant material from several locations in the grove and sifting out the seeds with a fine sieve until you obtaining 250 seeds. We'll suppose that using your collection method, any of the 5000 seeds is equally likely to be obtained, so that your 250 seeds comprise a *random sample* of the population. \n",
    "\n",
    "We can simulate samples obtained using your hypothetical design by drawing values without replacement from the population."
   ]
  },
  {
   "cell_type": "code",
   "execution_count": null,
   "id": "770f289d-2aaf-4f98-bbb8-d2ac1d25d7ec",
   "metadata": {},
   "outputs": [],
   "source": [
    "# draw a random sample of seeds\n",
    "np.random.seed(40221) # for reproducibility\n",
    "sample = population.sample(n = 250, replace = False)"
   ]
  },
  {
   "cell_type": "markdown",
   "id": "f0bf22d5-af12-478b-a705-a245b6ac850b",
   "metadata": {},
   "source": [
    "#### Question 1c.i\n",
    "\n",
    "Calculate the mean diameter of seeds in the simulated sample and set the result to `mean_sample_diameter`."
   ]
  },
  {
   "cell_type": "code",
   "execution_count": null,
   "id": "f5da0c84-ec51-4416-859c-508d8bdbd475",
   "metadata": {},
   "outputs": [],
   "source": [
    "# solution\n",
    "mean_sample_diameter = ...\n",
    "\n",
    "mean_sample_diameter"
   ]
  },
  {
   "cell_type": "markdown",
   "id": "4942b382-867e-443f-9f2b-43cbcf3b3871",
   "metadata": {},
   "source": [
    "<!-- BEGIN QUESTION -->\n",
    "\n",
    "#### Question 1c.ii\n",
    "\n",
    "Is it close to the population mean?"
   ]
  },
  {
   "cell_type": "markdown",
   "id": "86d83e83-9bc4-4c3a-b6f6-8336f01db775",
   "metadata": {},
   "source": [
    "_Type your answer here, replacing this text._"
   ]
  },
  {
   "cell_type": "markdown",
   "id": "f312a3af-eb13-46dd-b11c-cf0cdd63f4f4",
   "metadata": {},
   "source": [
    "<!-- END QUESTION -->\n",
    "\n",
    "The cell below produces a histogram of the sample values, and displays it alongside the histogram of population values."
   ]
  },
  {
   "cell_type": "code",
   "execution_count": null,
   "id": "63076592-476a-4141-b409-2bb79ec3ab5a",
   "metadata": {},
   "outputs": [],
   "source": [
    "# base layer\n",
    "base_samp = alt.Chart(sample).properties(width = 400, height = 300)\n",
    "\n",
    "# histogram of diameter measurements\n",
    "hist_samp = base_samp.mark_bar(opacity = 0.8).encode(\n",
    "    x = alt.X('diameter', \n",
    "              bin = alt.Bin(maxbins = 20),\n",
    "              scale = alt.Scale(domain = (0, 6)),\n",
    "              title = 'Diameter (mm)'),\n",
    "    y = alt.Y('count()', title = 'Number of seeds in sample')\n",
    ")\n",
    "\n",
    "# vertical line for population mean\n",
    "mean_samp = base_samp.mark_rule(color='blue').encode(\n",
    "    x = 'mean(diameter)'\n",
    ")\n",
    "\n",
    "# display\n",
    "hist_samp + mean_samp "
   ]
  },
  {
   "cell_type": "code",
   "execution_count": null,
   "id": "697f1725-8db0-4de7-8838-44e2e178c1f2",
   "metadata": {},
   "outputs": [],
   "source": [
    "hist_pop + mean_pop"
   ]
  },
  {
   "cell_type": "markdown",
   "id": "d7bc2dc1-b08d-4b2b-b97d-3bc16713cda5",
   "metadata": {},
   "source": [
    "Notice that while there are some small differences, the overall shape is similar and the sample mean is almost exactly the same as the population mean. So with this sampling design, you obtained a dataset with few distortions of the population properties, and the sample mean is a good estimate of the population mean.\n",
    "\n",
    "### Assessing bias\n",
    "\n",
    "You may wonder: *does that happen all the time, or was this just a lucky draw?* This question can be answered by simulating a large number of samples to see whether the undistorted representation of the population is typical for this sampling design. To simplify life a little, let's focus on whether the sample mean is usually accurate.\n",
    "\n",
    "The cell below estimates the bias of the sample mean by:\n",
    "\n",
    "* drawing 1000 samples of size 300;\n",
    "* storing the sample mean from each sample; \n",
    "* computing the average difference between the sample means and the population mean."
   ]
  },
  {
   "cell_type": "code",
   "execution_count": null,
   "id": "8ac6df4d-df7e-450d-b979-1e462814c2ef",
   "metadata": {},
   "outputs": [],
   "source": [
    "np.random.seed(40221) # for reproducibility\n",
    "\n",
    "# number of samples to simulate\n",
    "nsim = 1000\n",
    "\n",
    "# storage for the sample means\n",
    "samp_means = np.zeros(nsim)\n",
    "\n",
    "# repeatedly sample and store the sample mean\n",
    "for i in range(0, nsim):\n",
    "    samp_means[i] = population.sample(n = 250, replace = False).mean()"
   ]
  },
  {
   "cell_type": "markdown",
   "id": "660dd965-a6a4-47fb-9fca-206959c67001",
   "metadata": {},
   "source": [
    "The bias of the sample mean is its average distance from the population mean. We can estimate this using our simulation results as follows:"
   ]
  },
  {
   "cell_type": "code",
   "execution_count": null,
   "id": "20d5d623-c714-44c6-bd4c-646296efa48b",
   "metadata": {},
   "outputs": [],
   "source": [
    "# bias\n",
    "samp_means.mean() - population.diameter.mean()"
   ]
  },
  {
   "cell_type": "markdown",
   "id": "e9c7735c-9392-418f-b495-70fddad960d2",
   "metadata": {},
   "source": [
    "So the average error observed in 1000 simulations was about 0.001 mm! This suggests that the sample mean is *unbiased*: on average, there is no error. Therefore, at least with respect to estimating the population mean, random samples appear to be *unbiased samples*.\n",
    "\n",
    "However, **unbiasedness does not mean that you won't observe estimation error**. There is a natural amount of variability from sample to sample, because in each sample a different collection of seeds is measured.\n",
    "\n",
    "The cell below plots a histogram representing the distribution of values of the sample mean across the 1000 samples you simulated (this is known as the *sampling distribution* of the sample mean). It shows a peak right at the population mean (blue vertical line) but some symmetric variation to either side -- most values are between about 0.93 and 1.12."
   ]
  },
  {
   "cell_type": "code",
   "execution_count": null,
   "id": "c66dfc60-f08d-465f-b9ef-cc766eb29389",
   "metadata": {},
   "outputs": [],
   "source": [
    "# plot the simulated sampling distribution\n",
    "sampling_dist = alt.Chart(pd.DataFrame({'sample mean': samp_means})).mark_bar().encode(\n",
    "    x = alt.X('sample mean', bin = alt.Bin(maxbins = 30), title = 'Value of sample mean'),\n",
    "    y = alt.Y('count()', title = 'Number of simulations')\n",
    ")\n",
    "\n",
    "sampling_dist + mean_pop"
   ]
  },
  {
   "cell_type": "markdown",
   "id": "e4f25194-b3f2-4f5e-82e9-87ac8b8add70",
   "metadata": {},
   "source": [
    "---\n",
    "\n",
    "## Scenario 2: biased sampling\n",
    "\n",
    "In this scenario, you'll use the same hypothetical population of eucalyptus seed diameter measurements and explore the impact of a biased sampling design.\n",
    "\n",
    "### Hypothetical sampling design\n",
    "\n",
    "In the first design, you were asked to imagine that you collected and sifted plant material to obtain seeds. Suppose you didn't know that the typical seed is about 1mm in diameter and decided to use a sieve that is a little too coarse, tending only to sift out larger seeds and letting smaller seeds pass through. As a result, small seeds have a lower probability of being included in the sample and large seeds have a higher probability of being included in the sample. \n",
    "\n",
    "This kind of sampling design can be described by assigning differential *sampling weights* $w_1, \\dots, w_N$ to each observation. The cell below defines a `weight_fn` that calculates a weight $w_i$ between 0 and 1 according to diameter, so that larger diameters have larger weights and are more likely to be sampled."
   ]
  },
  {
   "cell_type": "code",
   "execution_count": null,
   "id": "850ac371-319e-4af1-ae25-de727f4ae889",
   "metadata": {},
   "outputs": [],
   "source": [
    "population_mod1 = population.copy()\n",
    "\n",
    "# inclusion weight as a function of seed diameter\n",
    "def weight_fn(x, r = 2, c = 2):\n",
    "    out = 1/(1 + np.e**(-r*(x - c)))\n",
    "    return out\n",
    "\n",
    "# create a grid of values to use in plotting the function\n",
    "grid = np.linspace(0, 6, 100)\n",
    "weight_df = pd.DataFrame(\n",
    "    {'seed diameter': grid,\n",
    "     'weight': weight_fn(grid)}\n",
    ")\n",
    "\n",
    "# plot of inclusion probability against diameter\n",
    "weight_plot = alt.Chart(weight_df).mark_area(opacity = 0.3, line = True).encode(\n",
    "    x = 'seed diameter',\n",
    "    y = 'weight'\n",
    ").properties(height = 100)\n",
    "\n",
    "# show plot\n",
    "weight_plot\n"
   ]
  },
  {
   "cell_type": "markdown",
   "id": "1189eb84-fdd5-4605-8ee7-02c1a903c67a",
   "metadata": {},
   "source": [
    "The actual probability that a seed is included in the sample -- its **inclusion probability** -- is proportional to the sampling weight. These inclusion probabilities $\\pi_i$ can be calculated by normalizing the weights $w_i$:\n",
    "\n",
    "$$\\pi_i = \\frac{w_i}{\\sum_i w_i}$$\n",
    "\n",
    "It may help you to picture how the weights will be used in sampling to line up this plot with the population distribution. In effect, we will sample more from the right tail of the population distribution, where the weight is nearest to 1."
   ]
  },
  {
   "cell_type": "code",
   "execution_count": null,
   "id": "5a181b61-7bf9-4bdb-b687-1ec2eaf00816",
   "metadata": {},
   "outputs": [],
   "source": [
    "hist_pop # Population"
   ]
  },
  {
   "cell_type": "code",
   "execution_count": null,
   "id": "3aef2f3b-7d0e-4242-ad18-0f26906ef924",
   "metadata": {},
   "outputs": [],
   "source": [
    "weight_plot  # Weight plots"
   ]
  },
  {
   "cell_type": "markdown",
   "id": "ac242f15-3659-4589-8a20-545fadb2410b",
   "metadata": {},
   "source": [
    "The following cell draws a sample with replacement from the hypothetical seed population *with seeds weighted according to the inclusion probability given by the function above*."
   ]
  },
  {
   "cell_type": "code",
   "execution_count": null,
   "id": "19cf74e8-e4b0-4c82-ae96-a4d89c0fb00d",
   "metadata": {},
   "outputs": [],
   "source": [
    "# assign inclusion probability to each seed\n",
    "population_mod1['inclusion_prob'] = weight_fn(population_mod1.diameter)/(weight_fn(population_mod1.diameter)).sum()\n",
    "\n",
    "# draw weighted sample\n",
    "np.random.seed(40721)\n",
    "sample2 = population_mod1.sample(n = 250, replace = False, weights = 'inclusion_prob').drop(columns = 'inclusion_prob')"
   ]
  },
  {
   "cell_type": "markdown",
   "id": "28af2456-2a7d-422e-9891-ce46ec375848",
   "metadata": {},
   "source": [
    "#### Question 2a.i\n",
    "\n",
    "Calculate the mean diameter of seeds in the simulated sample and set the result to `mean_sample2_diameter`.\n"
   ]
  },
  {
   "cell_type": "code",
   "execution_count": null,
   "id": "51862062-11d9-4b40-a678-1dbe3394b5da",
   "metadata": {},
   "outputs": [],
   "source": [
    "# solution\n",
    "mean_sample2_diameter = ...\n",
    "\n",
    "mean_sample2_diameter"
   ]
  },
  {
   "cell_type": "markdown",
   "id": "8d405ff6-32e3-4566-81fd-f79260501fc1",
   "metadata": {},
   "source": [
    "<!-- BEGIN QUESTION -->\n",
    "\n",
    "#### Question 2a.ii\n",
    "\n",
    "Is it close to the population mean?\n"
   ]
  },
  {
   "cell_type": "markdown",
   "id": "a7ae517c-1ee9-4a19-a823-35c823f5b983",
   "metadata": {},
   "source": [
    "_Type your answer here, replacing this text._"
   ]
  },
  {
   "cell_type": "markdown",
   "id": "7b72d6ea-6298-4d66-b62f-2be587a59c41",
   "metadata": {},
   "source": [
    "<!-- END QUESTION -->\n",
    "\n",
    "<!-- BEGIN QUESTION -->\n",
    "\n",
    "#### Question 2b.i\n",
    "\n",
    "Show side-by-side plots of the distribution of sample values and the distribution of population values, with vertical lines indicating the corresponding mean on each plot. (*Hint*: copy the cell that produced this plot in scenario 1 and replace `sample` with `sample2`. Utilizing different methods is also welcome.)"
   ]
  },
  {
   "cell_type": "code",
   "execution_count": null,
   "id": "b228107b-b39a-429a-ab48-4bd7a2eb988e",
   "metadata": {},
   "outputs": [],
   "source": [
    "# base layer\n",
    "base_samp = ...\n",
    "\n",
    "# histogram of diameter measurements\n",
    "hist_samp = ...\n",
    "\n",
    "# vertical line for population mean\n",
    "mean_samp = ...\n",
    "\n",
    "# combine layers"
   ]
  },
  {
   "cell_type": "markdown",
   "id": "24d5900f-b3be-4aa3-82ab-8a8329fe9022",
   "metadata": {},
   "source": [
    "<!-- END QUESTION -->\n",
    "\n",
    "<!-- BEGIN QUESTION -->\n",
    "\n",
    "#### Question 2b.ii\n",
    "\n",
    "Compare this plot with the original histogram that displays the distribution for the entire population. Does the distribution of diameters of seeds in the sample seem to accurately reflect the population?\n"
   ]
  },
  {
   "cell_type": "markdown",
   "id": "9ac7f35d-3625-4146-9272-bedf022d3c8a",
   "metadata": {},
   "source": [
    "_Type your answer here, replacing this text._"
   ]
  },
  {
   "cell_type": "markdown",
   "id": "e09fc7cd-7355-4c79-b31f-71fadc4777e0",
   "metadata": {},
   "source": [
    "<!-- END QUESTION -->\n",
    "\n",
    "### Assessing bias\n",
    "\n",
    "Here you'll mimic the simulation done in scenario 1 to assess the bias of the sample mean under this new sampling design."
   ]
  },
  {
   "cell_type": "code",
   "execution_count": null,
   "id": "d58c6878-aef1-452b-8281-42a35169534a",
   "metadata": {},
   "outputs": [],
   "source": [
    "population_mod1.head()"
   ]
  },
  {
   "cell_type": "markdown",
   "id": "7e9c3690-fc30-4ce2-958c-bb7a680949d1",
   "metadata": {},
   "source": [
    "<!-- BEGIN QUESTION -->\n",
    "\n",
    "#### Question 2c\n",
    "\n",
    "Investigate the bias of the sample mean by:\n",
    "\n",
    "* drawing 1000 samples with observations weighted by inclusion probability;\n",
    "* storing the sample mean from each sample in `samp_means`; \n",
    "* computing the average difference between the sample means and the population mean and storing the result in `avg_diff`.\n",
    "\n",
    "(*Hint*: copy the cell that performs this simulation in scenario 1, and be sure to replace `population` with `population_mod1` and adjust the sampling step to include `weights = ...` with the appropriate argument.)"
   ]
  },
  {
   "cell_type": "code",
   "execution_count": null,
   "id": "64cc548b-ba35-45ab-a8db-a941ce422615",
   "metadata": {},
   "outputs": [],
   "source": [
    "np.random.seed(40221) # for reproducibility\n",
    "\n",
    "# number of samples to simulate\n",
    "\n",
    "# storage for the sample means\n",
    "samp_means = ...\n",
    "\n",
    "# repeatedly sample and store the sample mean in the samp_means array\n",
    "\n",
    "# bias\n",
    "avg_diff = ...\n"
   ]
  },
  {
   "cell_type": "markdown",
   "id": "b0a1835a-b281-4377-b120-9cc497702263",
   "metadata": {},
   "source": [
    "<!-- END QUESTION -->\n",
    "\n",
    "<!-- BEGIN QUESTION -->\n",
    "\n",
    "#### Question 2d\n",
    "\n",
    "Does this sampling design seem to introduce bias? If so, does the sample mean tend to over-estimate or under-estimate the population mean?"
   ]
  },
  {
   "cell_type": "markdown",
   "id": "f135117f-4465-4905-96c9-3520e979913a",
   "metadata": {},
   "source": [
    "_Type your answer here, replacing this text._"
   ]
  },
  {
   "cell_type": "markdown",
   "id": "80e8b71b-c243-4c21-8f6d-a855d47e2603",
   "metadata": {},
   "source": [
    "<!-- END QUESTION -->\n",
    "\n",
    "---\n",
    "\n",
    "## Scenario 3\n",
    "\n",
    "In this scenario, you'll explore sampling from a population with group structure -- frequently bias can arise from inadvertent uneven sampling of groups within a population.\n",
    "\n",
    "### Hypothetical population\n",
    "\n",
    "Suppose you're interested in determining the average beak-to-tail length of red-tailed hawks to help differentiate them from other hawks by sight at a distance. Females and males differ slightly in length -- females are generally larger than males. The cell below generates length measurements for a hypothetical population of 3000 females and 2000 males."
   ]
  },
  {
   "cell_type": "code",
   "execution_count": null,
   "id": "b40ea6d8-4bc3-4542-8635-294cb1a56c84",
   "metadata": {},
   "outputs": [],
   "source": [
    "# for reproducibility\n",
    "np.random.seed(40721)\n",
    "\n",
    "# simulate hypothetical population\n",
    "population_hawks = pd.DataFrame(\n",
    "    data = {'length': np.random.normal(loc = 57.5, scale = 3, size = 3000),\n",
    "            'sex': np.repeat('female', 3000)}\n",
    ").append(\n",
    "    pd.DataFrame(\n",
    "        data = {'length': np.random.normal(loc = 50.5, scale = 3, size = 2000),\n",
    "                'sex': np.repeat('male', 2000)}\n",
    "    )\n",
    ")\n",
    "\n",
    "# preview\n",
    "population_hawks.groupby('sex').head(2)"
   ]
  },
  {
   "cell_type": "markdown",
   "id": "5b8522a9-4e37-4576-8467-e0a283ced618",
   "metadata": {},
   "source": [
    "The cell below produces a histogram of the lengths in the population overall (bottom panel) and when distinguished by sex (top panel)."
   ]
  },
  {
   "cell_type": "code",
   "execution_count": null,
   "id": "43332c7f-3f69-4446-952c-900f1e0537a2",
   "metadata": {},
   "outputs": [],
   "source": [
    "base = alt.Chart(population_hawks).properties(height = 200)\n",
    "\n",
    "hist = base.mark_bar(opacity = 0.5, color = 'red').encode(\n",
    "    x = alt.X('length', \n",
    "              bin = alt.Bin(maxbins = 40), \n",
    "              scale = alt.Scale(domain = (40, 70)),\n",
    "              title = 'length (cm)'),\n",
    "    y = alt.Y('count()', \n",
    "              stack = None,\n",
    "              title = 'number of birds')\n",
    ")\n",
    "\n",
    "hist_bysex = hist.encode(color = 'sex').properties(height = 100)\n",
    "\n",
    "hist_bysex   ##By sex"
   ]
  },
  {
   "cell_type": "code",
   "execution_count": null,
   "id": "5f9e7511-1f9b-4892-bf07-41057d4f5844",
   "metadata": {},
   "outputs": [],
   "source": [
    "hist  ### overall"
   ]
  },
  {
   "cell_type": "markdown",
   "id": "40fad289-187f-4ec3-8d0f-873a40682128",
   "metadata": {},
   "source": [
    "The population mean -- average length of both female and male red-tailed hawks -- is shown below."
   ]
  },
  {
   "cell_type": "code",
   "execution_count": null,
   "id": "a95adf11-7d46-41da-b91f-8e2733ad8ec8",
   "metadata": {},
   "outputs": [],
   "source": [
    "# population mean\n",
    "population_hawks.mean()"
   ]
  },
  {
   "cell_type": "markdown",
   "id": "3e7aceda-e8fc-48c7-ae31-c8f0f08c6002",
   "metadata": {},
   "source": [
    "First try drawing a random sample from the population:"
   ]
  },
  {
   "cell_type": "code",
   "execution_count": null,
   "id": "2b8758fd-a651-4d6c-9f4d-36d3e5678aee",
   "metadata": {},
   "outputs": [],
   "source": [
    "# for reproducibility\n",
    "np.random.seed(40821)\n",
    "\n",
    "# randomly sample\n",
    "sample_hawks = population_hawks.sample(n = 300, replace = False)"
   ]
  },
  {
   "cell_type": "markdown",
   "id": "aca63a5b-58c9-4749-9f09-599a9518fcb4",
   "metadata": {},
   "source": [
    "#### Question 3a\n",
    "\n",
    "Do you expect that the sample will contain equal numbers of male and female hawks? Think about this for a moment (you don't have to provide a written answer), and then compute the proportions of individuals in the sample of each sex and store the result as `proportion_hawks_sample`. \n",
    "\n",
    "(*Hint*: group by sex, use `.count()`, and divide by the sample size. Be sure to rename the output column appropriately, as the default behavior produces a column called `length`.) \n"
   ]
  },
  {
   "cell_type": "code",
   "execution_count": null,
   "id": "19c72641-c719-4fa8-bf96-23fa39ed0174",
   "metadata": {},
   "outputs": [],
   "source": [
    "# solution\n",
    "proportion_hawks_sample = ...\n",
    "\n",
    "proportion_hawks_sample"
   ]
  },
  {
   "cell_type": "markdown",
   "id": "cfe555b5-324c-489b-94f4-72b0ee779083",
   "metadata": {},
   "source": [
    "The sample mean is shown below, and is fairly close to the population mean. This should be expected, since you already saw in scenario 1 that random sampling is an unbiased sampling design with respect to the mean."
   ]
  },
  {
   "cell_type": "code",
   "execution_count": null,
   "id": "5c4ed905-b83f-4f1d-8616-8f0fc83eb67f",
   "metadata": {},
   "outputs": [],
   "source": [
    "sample_hawks.mean()"
   ]
  },
  {
   "cell_type": "markdown",
   "id": "08d8ccb3-74de-465e-b929-79bfabc0c0cf",
   "metadata": {},
   "source": [
    "### Biased sampling\n",
    "\n",
    "Let's now consider a biased sampling design. Usually, length measurements are collected from dead specimens collected opportunistically. Imagine that male mortality is higher, so there are better chances of finding dead males than dead females. Suppose in particular that specimens are five times as likely to be male; to represent this situation, we'll assign sampling weights of 5/6 to all male hawks and weights of 1/6 to all female hawks."
   ]
  },
  {
   "cell_type": "code",
   "execution_count": null,
   "id": "c8cccb19-3288-4730-a6bd-0c38ff71ae30",
   "metadata": {},
   "outputs": [],
   "source": [
    "def weight_fn(sex, p = 5/6):\n",
    "    if sex == 'male':\n",
    "        out = p\n",
    "    else:\n",
    "        out = 1 - p\n",
    "    return out\n",
    "\n",
    "weight_df = pd.DataFrame(\n",
    "    {'length': [50.5, 57.5],\n",
    "     'weight': [5/6, 1/6],\n",
    "     'sex': ['male', 'female']})\n",
    "\n",
    "wt = alt.Chart(weight_df).mark_bar(opacity = 0.5).encode(\n",
    "    x = alt.X('length', scale = alt.Scale(domain = (40, 70))),\n",
    "    y = alt.Y('weight', scale = alt.Scale(domain = (0, 1))),\n",
    "    color = 'sex'\n",
    ").properties(height = 70)\n",
    "\n",
    "hist_bysex "
   ]
  },
  {
   "cell_type": "code",
   "execution_count": null,
   "id": "a061bd2e-16f0-41d1-8076-1f5e9bd1454d",
   "metadata": {},
   "outputs": [],
   "source": [
    "wt  ### Weights"
   ]
  },
  {
   "cell_type": "markdown",
   "id": "d765174a-515f-4d89-8ced-dad33abe5155",
   "metadata": {},
   "source": [
    "<!-- BEGIN QUESTION -->\n",
    "\n",
    "#### Question 3b\n",
    "\n",
    "Draw a weighted sample `sample_hawks_weighted` from the population `population_hawks` using the weights defined by `weight_fn`, and compute and store the sample mean in `sample_hawks_weighted_mean`."
   ]
  },
  {
   "cell_type": "code",
   "execution_count": null,
   "id": "29a1d07a-96c9-40f9-90c7-4b858a601416",
   "metadata": {},
   "outputs": [],
   "source": [
    "# for reproducibility\n",
    "np.random.seed(40821)\n",
    "\n",
    "# assign weights\n",
    "population_hawks['weight'] = ...\n",
    "\n",
    "# randomly sample\n",
    "sample_hawks_weighted = ...\n",
    "\n",
    "# compute mean\n",
    "sample_hawks_weighted_mean = ...\n"
   ]
  },
  {
   "cell_type": "markdown",
   "id": "a0c2779d-30ea-45cf-bcfa-04230669ab73",
   "metadata": {},
   "source": [
    "<!-- END QUESTION -->\n",
    "\n",
    "<!-- BEGIN QUESTION -->\n",
    "\n",
    "#### Question 3c\n",
    "\n",
    "Investigate the bias of the sample mean by:\n",
    "\n",
    "* drawing 1000 samples with observations weighted by `weight_fn`;\n",
    "* storing the sample mean from each sample; \n",
    "* computing the average difference between the sample means and the population mean.\n"
   ]
  },
  {
   "cell_type": "code",
   "execution_count": null,
   "id": "de233cc6-b976-456e-9e54-49660f23e022",
   "metadata": {},
   "outputs": [],
   "source": [
    "# solution\n",
    "np.random.seed(40221) # for reproducibility\n",
    "\n",
    "# number of samples to simulate\n",
    "\n",
    "# storage for the sample means\n",
    "samp_means_2 = ...\n",
    "\n",
    "# repeatedly sample and store the sample mean in the samp_means array\n",
    "\n",
    "# bias\n",
    "biased_mean_diff = ...\n"
   ]
  },
  {
   "cell_type": "markdown",
   "id": "5d756064-4a97-4a7b-af6d-7ecb06d62132",
   "metadata": {},
   "source": [
    "<!-- END QUESTION -->\n",
    "\n",
    "<!-- BEGIN QUESTION -->\n",
    "\n",
    "#### Question 3d\n",
    "\n",
    "Reflect a moment on your simulation result in question 3c. If instead *female* mortality is higher and specimens for measurement are collected opportunistically, as described in the previous sampling design, do you expect that the average length in the sample will be an underestimate or an overestimate of the population mean? Explain why in 1-2 sentences.\n"
   ]
  },
  {
   "cell_type": "markdown",
   "id": "f8cd8ba6-c59c-4377-9880-8ce47a9faec3",
   "metadata": {},
   "source": [
    "_Type your answer here, replacing this text._"
   ]
  },
  {
   "cell_type": "markdown",
   "id": "54cf0cc7-a606-49c6-a87d-a158904f6170",
   "metadata": {},
   "source": [
    "<!-- END QUESTION -->\n",
    "\n",
    "---\n",
    "\n",
    "## Bias correction\n",
    "\n",
    "*What can be done if a sampling design is biased? Is there any remedy?* \n",
    "\n",
    "You've seen some examples above of how bias can arise from a sampling mechanism in which units have unequal chances of being selected in the sample. Ideally, we'd work with random samples all the time, but that's not very realistic in practice. Fortunately, biased sampling is not a hopeless case -- **it is possible to apply bias corrections if you have good information about which individuals were more likely to be sampled**.\n",
    "\n",
    "To illustrate how this would work, let's revisit scenario 2 -- sampling larger eucalyptus seeds more often than smaller ones. Imagine you realize the mistake and conduct a quick experiment with your sieve to determine the proportion of seeds of each size that pass through, and use this to estimate the inclusion probabilities. (To simplify this excercise, we'll just use sampling weights we defined to calculate the actual inclusion probabilities.)\n",
    "\n",
    "The cell below generates the population and sample from scenario 2 again:"
   ]
  },
  {
   "cell_type": "code",
   "execution_count": null,
   "id": "3b39c4a8-a809-4b9a-9314-ef0e64f95ff4",
   "metadata": {},
   "outputs": [],
   "source": [
    "# simulate seed diameters\n",
    "np.random.seed(40221) # for reproducibility\n",
    "population3 = pd.DataFrame(\n",
    "    data = {'diameter': np.random.gamma(shape = 2, scale = 1/2, size = 5000), \n",
    "            'seed': np.arange(5000)}\n",
    ").set_index('seed')\n",
    "\n",
    "# probability of inclusion as a function of seed diameter\n",
    "def weight_fn(x, r = 2, c = 2):\n",
    "    out = 1/(1 + np.e**(-r*(x - c)))\n",
    "    return out\n",
    "\n",
    "# assign inclusion probability to each seed\n",
    "population3['samp_weight'] = weight_fn(population3.diameter)\n",
    "\n",
    "# draw weighted sample\n",
    "np.random.seed(40721)\n",
    "sample3 = population3.sample(n = 250, replace = False, weights = 'samp_weight')"
   ]
  },
  {
   "cell_type": "markdown",
   "id": "adb147c5-aa3f-48df-b95d-71fbfaf982a1",
   "metadata": {},
   "source": [
    "The sample mean and population mean you calculated earlier are shown below:"
   ]
  },
  {
   "cell_type": "code",
   "execution_count": null,
   "id": "562f6acf-5f90-4782-8a93-87c145e84861",
   "metadata": {},
   "outputs": [],
   "source": [
    "# print sample and population means\n",
    "pd.Series({'sample mean': sample3.diameter.mean(), 'population mean': population3.diameter.mean()})"
   ]
  },
  {
   "cell_type": "markdown",
   "id": "9f807620-2bd1-429b-bab3-4cba7fa01826",
   "metadata": {},
   "source": [
    "We can obtain an unbiased estimate of the population mean by computing a *weighted average* of the diameter measurements instead of the sample average after weighting the measurements in inverse proportion to the sampling weights:\n",
    "\n",
    "$$\\text{weighted average} = \\sum_{i = 1}^{250} \\underbrace{\\left(\\frac{w_i^{-1}}{\\sum_{j = 1}^{250} w_j^{-1}}\\right)}_{\\text{bias adjustment}} \\times \\text{diameter}_i$$\n",
    "\n",
    "This might look a little complicated, but the idea is simple -- the weighted average corrects for bias by simply up-weighting observations with a lower sampling weight and down-weighting observations with a higher sampling weight.\n",
    "\n",
    "The cell below performs this calcuation."
   ]
  },
  {
   "cell_type": "code",
   "execution_count": null,
   "id": "b1e36ed6-bbce-4f86-9e4c-52b373db9571",
   "metadata": {},
   "outputs": [],
   "source": [
    "# compute bias adjustment\n",
    "sample3['bias_adjustment'] = (sample3.samp_weight**(-1))/(sample3.samp_weight**(-1)).sum()\n",
    "\n",
    "# weight diameter measurements\n",
    "sample3['weighted_diameter'] = sample3.diameter*sample3.bias_adjustment\n",
    "\n",
    "# sum to compute weighted average\n",
    "sample3.weighted_diameter.sum()"
   ]
  },
  {
   "cell_type": "markdown",
   "id": "f39ecd90-9809-4a3a-9409-27a87478c394",
   "metadata": {},
   "source": [
    "Notice that the weighted average successfully corrected for the bias:"
   ]
  },
  {
   "cell_type": "code",
   "execution_count": null,
   "id": "6e5ccc88-e217-4ae5-b298-33a4e030ade8",
   "metadata": {},
   "outputs": [],
   "source": [
    "# print sample and population means\n",
    "pd.Series({'sample mean': sample3.diameter.mean(),\n",
    "           'weighted average': sample3.weighted_diameter.sum(),\n",
    "           'population mean': population3.diameter.mean()})"
   ]
  },
  {
   "cell_type": "markdown",
   "id": "3c04160e-153b-42ce-abb2-2a080f26131a",
   "metadata": {},
   "source": [
    "---\n",
    "\n",
    "## Takeaways\n",
    "\n",
    "These simulations illustrate through a few simple examples that random sampling -- a sampling design where each unit is equally likely to be selected -- produces unbiased sample means. That means that 'typical samples' will yield sample averages that are close to the population value. By contrast, deviations from random sampling tend to yield biased sample averages -- in other words, nonrandom sampling tends to distort the statistical properties of the population in ways that can produce misleading conclusions (if uncorrected).\n",
    "\n",
    "Here are a few key points to reflect on:\n",
    "\n",
    "* bias is not a property of an individual sample, but of a *sampling design*\n",
    "    - unbiased sampling designs tend to produce faithful representations of populations\n",
    "    - but there are no guarantees for individual samples\n",
    "\n",
    "\n",
    "* if you hadn't known the population distributions, there would have been no computational method to detect bias\n",
    "    - in practice, it's necessary to *reason* about whether the sampling design is sound\n",
    "\n",
    "\n",
    "* the sample statistic (sample mean) was only reliable when the sampling design was sound\n",
    "    - the quality of data collection is arguably more important for reaching reliable conclusions than the choice of statistic or method of analysis\n"
   ]
  },
  {
   "cell_type": "markdown",
   "id": "642e15db-2ea5-4949-af98-30ebf15081dc",
   "metadata": {},
   "source": [
    "---\n",
    "## Submission Checklist\n",
    "1. Save file to confirm all changes are on disk\n",
    "2. Run *Kernel > Restart & Run All* to execute all code from top to bottom\n",
    "3. Save file again to write any new output to disk\n",
    "4. Select *File > Download* (should save as .ipynb)\n",
    "5. Submit to Gradescope"
   ]
  }
 ],
 "metadata": {
  "kernelspec": {
   "display_name": "Python 3 (ipykernel)",
   "language": "python",
   "name": "python3"
  },
  "language_info": {
   "codemirror_mode": {
    "name": "ipython",
    "version": 3
   },
   "file_extension": ".py",
   "mimetype": "text/x-python",
   "name": "python",
   "nbconvert_exporter": "python",
   "pygments_lexer": "ipython3",
   "version": "3.11.1"
  }
 },
 "nbformat": 4,
 "nbformat_minor": 5
}
